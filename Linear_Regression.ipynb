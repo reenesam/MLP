{
  "cells": [
    {
      "cell_type": "code",
      "execution_count": 39,
      "metadata": {
        "id": "sYzx_J-txTW1"
      },
      "outputs": [],
      "source": [
        "import os"
      ]
    },
    {
      "cell_type": "code",
      "execution_count": 40,
      "metadata": {
        "colab": {
          "base_uri": "https://localhost:8080/"
        },
        "id": "O3_fncz7wzRS",
        "outputId": "e6df2c3f-9133-471d-95de-a92236df3f13"
      },
      "outputs": [
        {
          "output_type": "stream",
          "name": "stdout",
          "text": [
            "Drive already mounted at /content/drive; to attempt to forcibly remount, call drive.mount(\"/content/drive\", force_remount=True).\n"
          ]
        }
      ],
      "source": [
        "from google.colab import drive\n",
        "drive.mount('/content/drive')"
      ]
    },
    {
      "cell_type": "code",
      "execution_count": 41,
      "metadata": {
        "id": "FJ2-DF38y3Cz"
      },
      "outputs": [],
      "source": [
        "import pandas as pd\n",
        "import numpy as np\n",
        "import warnings\n",
        "import matplotlib.pyplot as plt\n",
        "from xgboost import XGBRegressor\n",
        "from sklearn.ensemble import RandomForestRegressor\n",
        "from sklearn.linear_model import LinearRegression\n",
        "from sklearn.metrics import mean_squared_error\n",
        "from tensorflow.keras.models import Sequential\n",
        "from tensorflow.keras.layers import Dense, LSTM\n",
        "from tensorflow.keras.callbacks import EarlyStopping, ModelCheckpoint\n",
        "from sklearn.preprocessing import MinMaxScaler\n",
        "warnings.filterwarnings(\"ignore\")"
      ]
    },
    {
      "cell_type": "code",
      "execution_count": 42,
      "metadata": {
        "colab": {
          "base_uri": "https://localhost:8080/",
          "height": 363
        },
        "id": "qhja9XLzy3tp",
        "outputId": "30daa983-add0-473c-bf0f-33e339c9c167"
      },
      "outputs": [
        {
          "output_type": "execute_result",
          "data": {
            "text/plain": [
              "  product_id      hosting   sale_date    revenue\n",
              "0  Product 1        Cloud  2023-11-01   53583.85\n",
              "1  Product 5        Cloud  2023-09-01  213436.30\n",
              "2  Product 5        Cloud  2023-08-01   80083.97\n",
              "3  Product 5  Data Center  2023-07-01  367722.25\n",
              "4  Product 5        Cloud  2023-01-01   58483.99\n",
              "5  Product 5  Data Center  2022-12-01  512291.83\n",
              "6  Product 2  Data Center  2021-11-01  106808.57\n",
              "7  Product 2        Cloud  2021-09-01   39958.91\n",
              "8  Product 2  Data Center  2021-12-01  230751.05\n",
              "9  Product 5  Data Center  2021-10-01  129712.05"
            ],
            "text/html": [
              "\n",
              "  <div id=\"df-fb7fcef3-5ada-430a-b44d-f5680f319445\" class=\"colab-df-container\">\n",
              "    <div>\n",
              "<style scoped>\n",
              "    .dataframe tbody tr th:only-of-type {\n",
              "        vertical-align: middle;\n",
              "    }\n",
              "\n",
              "    .dataframe tbody tr th {\n",
              "        vertical-align: top;\n",
              "    }\n",
              "\n",
              "    .dataframe thead th {\n",
              "        text-align: right;\n",
              "    }\n",
              "</style>\n",
              "<table border=\"1\" class=\"dataframe\">\n",
              "  <thead>\n",
              "    <tr style=\"text-align: right;\">\n",
              "      <th></th>\n",
              "      <th>product_id</th>\n",
              "      <th>hosting</th>\n",
              "      <th>sale_date</th>\n",
              "      <th>revenue</th>\n",
              "    </tr>\n",
              "  </thead>\n",
              "  <tbody>\n",
              "    <tr>\n",
              "      <th>0</th>\n",
              "      <td>Product 1</td>\n",
              "      <td>Cloud</td>\n",
              "      <td>2023-11-01</td>\n",
              "      <td>53583.85</td>\n",
              "    </tr>\n",
              "    <tr>\n",
              "      <th>1</th>\n",
              "      <td>Product 5</td>\n",
              "      <td>Cloud</td>\n",
              "      <td>2023-09-01</td>\n",
              "      <td>213436.30</td>\n",
              "    </tr>\n",
              "    <tr>\n",
              "      <th>2</th>\n",
              "      <td>Product 5</td>\n",
              "      <td>Cloud</td>\n",
              "      <td>2023-08-01</td>\n",
              "      <td>80083.97</td>\n",
              "    </tr>\n",
              "    <tr>\n",
              "      <th>3</th>\n",
              "      <td>Product 5</td>\n",
              "      <td>Data Center</td>\n",
              "      <td>2023-07-01</td>\n",
              "      <td>367722.25</td>\n",
              "    </tr>\n",
              "    <tr>\n",
              "      <th>4</th>\n",
              "      <td>Product 5</td>\n",
              "      <td>Cloud</td>\n",
              "      <td>2023-01-01</td>\n",
              "      <td>58483.99</td>\n",
              "    </tr>\n",
              "    <tr>\n",
              "      <th>5</th>\n",
              "      <td>Product 5</td>\n",
              "      <td>Data Center</td>\n",
              "      <td>2022-12-01</td>\n",
              "      <td>512291.83</td>\n",
              "    </tr>\n",
              "    <tr>\n",
              "      <th>6</th>\n",
              "      <td>Product 2</td>\n",
              "      <td>Data Center</td>\n",
              "      <td>2021-11-01</td>\n",
              "      <td>106808.57</td>\n",
              "    </tr>\n",
              "    <tr>\n",
              "      <th>7</th>\n",
              "      <td>Product 2</td>\n",
              "      <td>Cloud</td>\n",
              "      <td>2021-09-01</td>\n",
              "      <td>39958.91</td>\n",
              "    </tr>\n",
              "    <tr>\n",
              "      <th>8</th>\n",
              "      <td>Product 2</td>\n",
              "      <td>Data Center</td>\n",
              "      <td>2021-12-01</td>\n",
              "      <td>230751.05</td>\n",
              "    </tr>\n",
              "    <tr>\n",
              "      <th>9</th>\n",
              "      <td>Product 5</td>\n",
              "      <td>Data Center</td>\n",
              "      <td>2021-10-01</td>\n",
              "      <td>129712.05</td>\n",
              "    </tr>\n",
              "  </tbody>\n",
              "</table>\n",
              "</div>\n",
              "    <div class=\"colab-df-buttons\">\n",
              "\n",
              "  <div class=\"colab-df-container\">\n",
              "    <button class=\"colab-df-convert\" onclick=\"convertToInteractive('df-fb7fcef3-5ada-430a-b44d-f5680f319445')\"\n",
              "            title=\"Convert this dataframe to an interactive table.\"\n",
              "            style=\"display:none;\">\n",
              "\n",
              "  <svg xmlns=\"http://www.w3.org/2000/svg\" height=\"24px\" viewBox=\"0 -960 960 960\">\n",
              "    <path d=\"M120-120v-720h720v720H120Zm60-500h600v-160H180v160Zm220 220h160v-160H400v160Zm0 220h160v-160H400v160ZM180-400h160v-160H180v160Zm440 0h160v-160H620v160ZM180-180h160v-160H180v160Zm440 0h160v-160H620v160Z\"/>\n",
              "  </svg>\n",
              "    </button>\n",
              "\n",
              "  <style>\n",
              "    .colab-df-container {\n",
              "      display:flex;\n",
              "      gap: 12px;\n",
              "    }\n",
              "\n",
              "    .colab-df-convert {\n",
              "      background-color: #E8F0FE;\n",
              "      border: none;\n",
              "      border-radius: 50%;\n",
              "      cursor: pointer;\n",
              "      display: none;\n",
              "      fill: #1967D2;\n",
              "      height: 32px;\n",
              "      padding: 0 0 0 0;\n",
              "      width: 32px;\n",
              "    }\n",
              "\n",
              "    .colab-df-convert:hover {\n",
              "      background-color: #E2EBFA;\n",
              "      box-shadow: 0px 1px 2px rgba(60, 64, 67, 0.3), 0px 1px 3px 1px rgba(60, 64, 67, 0.15);\n",
              "      fill: #174EA6;\n",
              "    }\n",
              "\n",
              "    .colab-df-buttons div {\n",
              "      margin-bottom: 4px;\n",
              "    }\n",
              "\n",
              "    [theme=dark] .colab-df-convert {\n",
              "      background-color: #3B4455;\n",
              "      fill: #D2E3FC;\n",
              "    }\n",
              "\n",
              "    [theme=dark] .colab-df-convert:hover {\n",
              "      background-color: #434B5C;\n",
              "      box-shadow: 0px 1px 3px 1px rgba(0, 0, 0, 0.15);\n",
              "      filter: drop-shadow(0px 1px 2px rgba(0, 0, 0, 0.3));\n",
              "      fill: #FFFFFF;\n",
              "    }\n",
              "  </style>\n",
              "\n",
              "    <script>\n",
              "      const buttonEl =\n",
              "        document.querySelector('#df-fb7fcef3-5ada-430a-b44d-f5680f319445 button.colab-df-convert');\n",
              "      buttonEl.style.display =\n",
              "        google.colab.kernel.accessAllowed ? 'block' : 'none';\n",
              "\n",
              "      async function convertToInteractive(key) {\n",
              "        const element = document.querySelector('#df-fb7fcef3-5ada-430a-b44d-f5680f319445');\n",
              "        const dataTable =\n",
              "          await google.colab.kernel.invokeFunction('convertToInteractive',\n",
              "                                                    [key], {});\n",
              "        if (!dataTable) return;\n",
              "\n",
              "        const docLinkHtml = 'Like what you see? Visit the ' +\n",
              "          '<a target=\"_blank\" href=https://colab.research.google.com/notebooks/data_table.ipynb>data table notebook</a>'\n",
              "          + ' to learn more about interactive tables.';\n",
              "        element.innerHTML = '';\n",
              "        dataTable['output_type'] = 'display_data';\n",
              "        await google.colab.output.renderOutput(dataTable, element);\n",
              "        const docLink = document.createElement('div');\n",
              "        docLink.innerHTML = docLinkHtml;\n",
              "        element.appendChild(docLink);\n",
              "      }\n",
              "    </script>\n",
              "  </div>\n",
              "\n",
              "\n",
              "<div id=\"df-dbb219dd-11a1-482f-a606-404f1ea2def7\">\n",
              "  <button class=\"colab-df-quickchart\" onclick=\"quickchart('df-dbb219dd-11a1-482f-a606-404f1ea2def7')\"\n",
              "            title=\"Suggest charts\"\n",
              "            style=\"display:none;\">\n",
              "\n",
              "<svg xmlns=\"http://www.w3.org/2000/svg\" height=\"24px\"viewBox=\"0 0 24 24\"\n",
              "     width=\"24px\">\n",
              "    <g>\n",
              "        <path d=\"M19 3H5c-1.1 0-2 .9-2 2v14c0 1.1.9 2 2 2h14c1.1 0 2-.9 2-2V5c0-1.1-.9-2-2-2zM9 17H7v-7h2v7zm4 0h-2V7h2v10zm4 0h-2v-4h2v4z\"/>\n",
              "    </g>\n",
              "</svg>\n",
              "  </button>\n",
              "\n",
              "<style>\n",
              "  .colab-df-quickchart {\n",
              "      --bg-color: #E8F0FE;\n",
              "      --fill-color: #1967D2;\n",
              "      --hover-bg-color: #E2EBFA;\n",
              "      --hover-fill-color: #174EA6;\n",
              "      --disabled-fill-color: #AAA;\n",
              "      --disabled-bg-color: #DDD;\n",
              "  }\n",
              "\n",
              "  [theme=dark] .colab-df-quickchart {\n",
              "      --bg-color: #3B4455;\n",
              "      --fill-color: #D2E3FC;\n",
              "      --hover-bg-color: #434B5C;\n",
              "      --hover-fill-color: #FFFFFF;\n",
              "      --disabled-bg-color: #3B4455;\n",
              "      --disabled-fill-color: #666;\n",
              "  }\n",
              "\n",
              "  .colab-df-quickchart {\n",
              "    background-color: var(--bg-color);\n",
              "    border: none;\n",
              "    border-radius: 50%;\n",
              "    cursor: pointer;\n",
              "    display: none;\n",
              "    fill: var(--fill-color);\n",
              "    height: 32px;\n",
              "    padding: 0;\n",
              "    width: 32px;\n",
              "  }\n",
              "\n",
              "  .colab-df-quickchart:hover {\n",
              "    background-color: var(--hover-bg-color);\n",
              "    box-shadow: 0 1px 2px rgba(60, 64, 67, 0.3), 0 1px 3px 1px rgba(60, 64, 67, 0.15);\n",
              "    fill: var(--button-hover-fill-color);\n",
              "  }\n",
              "\n",
              "  .colab-df-quickchart-complete:disabled,\n",
              "  .colab-df-quickchart-complete:disabled:hover {\n",
              "    background-color: var(--disabled-bg-color);\n",
              "    fill: var(--disabled-fill-color);\n",
              "    box-shadow: none;\n",
              "  }\n",
              "\n",
              "  .colab-df-spinner {\n",
              "    border: 2px solid var(--fill-color);\n",
              "    border-color: transparent;\n",
              "    border-bottom-color: var(--fill-color);\n",
              "    animation:\n",
              "      spin 1s steps(1) infinite;\n",
              "  }\n",
              "\n",
              "  @keyframes spin {\n",
              "    0% {\n",
              "      border-color: transparent;\n",
              "      border-bottom-color: var(--fill-color);\n",
              "      border-left-color: var(--fill-color);\n",
              "    }\n",
              "    20% {\n",
              "      border-color: transparent;\n",
              "      border-left-color: var(--fill-color);\n",
              "      border-top-color: var(--fill-color);\n",
              "    }\n",
              "    30% {\n",
              "      border-color: transparent;\n",
              "      border-left-color: var(--fill-color);\n",
              "      border-top-color: var(--fill-color);\n",
              "      border-right-color: var(--fill-color);\n",
              "    }\n",
              "    40% {\n",
              "      border-color: transparent;\n",
              "      border-right-color: var(--fill-color);\n",
              "      border-top-color: var(--fill-color);\n",
              "    }\n",
              "    60% {\n",
              "      border-color: transparent;\n",
              "      border-right-color: var(--fill-color);\n",
              "    }\n",
              "    80% {\n",
              "      border-color: transparent;\n",
              "      border-right-color: var(--fill-color);\n",
              "      border-bottom-color: var(--fill-color);\n",
              "    }\n",
              "    90% {\n",
              "      border-color: transparent;\n",
              "      border-bottom-color: var(--fill-color);\n",
              "    }\n",
              "  }\n",
              "</style>\n",
              "\n",
              "  <script>\n",
              "    async function quickchart(key) {\n",
              "      const quickchartButtonEl =\n",
              "        document.querySelector('#' + key + ' button');\n",
              "      quickchartButtonEl.disabled = true;  // To prevent multiple clicks.\n",
              "      quickchartButtonEl.classList.add('colab-df-spinner');\n",
              "      try {\n",
              "        const charts = await google.colab.kernel.invokeFunction(\n",
              "            'suggestCharts', [key], {});\n",
              "      } catch (error) {\n",
              "        console.error('Error during call to suggestCharts:', error);\n",
              "      }\n",
              "      quickchartButtonEl.classList.remove('colab-df-spinner');\n",
              "      quickchartButtonEl.classList.add('colab-df-quickchart-complete');\n",
              "    }\n",
              "    (() => {\n",
              "      let quickchartButtonEl =\n",
              "        document.querySelector('#df-dbb219dd-11a1-482f-a606-404f1ea2def7 button');\n",
              "      quickchartButtonEl.style.display =\n",
              "        google.colab.kernel.accessAllowed ? 'block' : 'none';\n",
              "    })();\n",
              "  </script>\n",
              "</div>\n",
              "    </div>\n",
              "  </div>\n"
            ]
          },
          "metadata": {},
          "execution_count": 42
        }
      ],
      "source": [
        "store_sales= pd.read_csv(\"Raw_data.csv\")\n",
        "store_sales.head(10)"
      ]
    },
    {
      "cell_type": "markdown",
      "metadata": {
        "id": "seCInLHUzQlP"
      },
      "source": [
        "Check null value"
      ]
    },
    {
      "cell_type": "code",
      "execution_count": 43,
      "metadata": {
        "colab": {
          "base_uri": "https://localhost:8080/"
        },
        "id": "ivajaMd_zJfU",
        "outputId": "e74b1d10-931b-4954-b9bc-be9dc28c5d26"
      },
      "outputs": [
        {
          "output_type": "stream",
          "name": "stdout",
          "text": [
            "<class 'pandas.core.frame.DataFrame'>\n",
            "RangeIndex: 415 entries, 0 to 414\n",
            "Data columns (total 4 columns):\n",
            " #   Column      Non-Null Count  Dtype  \n",
            "---  ------      --------------  -----  \n",
            " 0   product_id  415 non-null    object \n",
            " 1   hosting     415 non-null    object \n",
            " 2   sale_date   415 non-null    object \n",
            " 3   revenue     415 non-null    float64\n",
            "dtypes: float64(1), object(3)\n",
            "memory usage: 13.1+ KB\n"
          ]
        }
      ],
      "source": [
        "store_sales.info()"
      ]
    },
    {
      "cell_type": "markdown",
      "metadata": {
        "id": "eALIEryDzdcG"
      },
      "source": [
        "Droping products and hosting colums"
      ]
    },
    {
      "cell_type": "code",
      "execution_count": 44,
      "metadata": {
        "colab": {
          "base_uri": "https://localhost:8080/"
        },
        "id": "BCUH-pz50SGD",
        "outputId": "b5502a03-4e9f-43aa-ef9a-01155239c1e9"
      },
      "outputs": [
        {
          "output_type": "stream",
          "name": "stdout",
          "text": [
            "Index(['product_id', 'hosting', 'sale_date', 'revenue'], dtype='object')\n",
            "  product_id      hosting   sale_date    revenue\n",
            "0  Product 1        Cloud  2023-11-01   53583.85\n",
            "1  Product 5        Cloud  2023-09-01  213436.30\n",
            "2  Product 5        Cloud  2023-08-01   80083.97\n",
            "3  Product 5  Data Center  2023-07-01  367722.25\n",
            "4  Product 5        Cloud  2023-01-01   58483.99\n"
          ]
        }
      ],
      "source": [
        "# Print column names\n",
        "print(store_sales.columns)\n",
        "\n",
        "# Print the first few rows of the DataFrame\n",
        "print(store_sales.head())"
      ]
    },
    {
      "cell_type": "code",
      "execution_count": 45,
      "metadata": {
        "id": "IOuytGXN0ogK"
      },
      "outputs": [],
      "source": [
        "store_sales = store_sales.drop(['hosting', 'product_id'], axis=1)"
      ]
    },
    {
      "cell_type": "code",
      "execution_count": 46,
      "metadata": {
        "colab": {
          "base_uri": "https://localhost:8080/"
        },
        "id": "ZgQIZuqMzlN2",
        "outputId": "3e56c4d1-c9d1-4c8a-911e-28fad06bad9d"
      },
      "outputs": [
        {
          "output_type": "stream",
          "name": "stdout",
          "text": [
            "      sale_date    revenue\n",
            "0    2023-11-01   53583.85\n",
            "1    2023-09-01  213436.30\n",
            "2    2023-08-01   80083.97\n",
            "3    2023-07-01  367722.25\n",
            "4    2023-01-01   58483.99\n",
            "..          ...        ...\n",
            "410  2019-07-01   15752.78\n",
            "411  2023-10-01  172713.20\n",
            "412  2023-11-01   37575.00\n",
            "413  2019-12-01   73374.07\n",
            "414  2021-04-01    7500.00\n",
            "\n",
            "[415 rows x 2 columns]\n"
          ]
        }
      ],
      "source": [
        "#store_sales = store_sales.drop(['hosting', 'product_id'], axis=1)\n",
        "#store_sales = store_sales[(store_sales['product_id'] == 'Product 1') & (store_sales['hosting'] == 'Cloud')]\n",
        "\n",
        "# Display the resulting DataFrame\n",
        "print(store_sales)"
      ]
    },
    {
      "cell_type": "code",
      "execution_count": 47,
      "metadata": {
        "colab": {
          "base_uri": "https://localhost:8080/"
        },
        "id": "M35L4XLkzyXY",
        "outputId": "8c665608-80f3-4e98-c37a-f27de003b824"
      },
      "outputs": [
        {
          "output_type": "stream",
          "name": "stdout",
          "text": [
            "<class 'pandas.core.frame.DataFrame'>\n",
            "RangeIndex: 415 entries, 0 to 414\n",
            "Data columns (total 2 columns):\n",
            " #   Column     Non-Null Count  Dtype  \n",
            "---  ------     --------------  -----  \n",
            " 0   sale_date  415 non-null    object \n",
            " 1   revenue    415 non-null    float64\n",
            "dtypes: float64(1), object(1)\n",
            "memory usage: 6.6+ KB\n"
          ]
        }
      ],
      "source": [
        "store_sales.info()"
      ]
    },
    {
      "cell_type": "markdown",
      "metadata": {
        "id": "ILt5dPLY1AWi"
      },
      "source": [
        "Converting date"
      ]
    },
    {
      "cell_type": "code",
      "execution_count": 48,
      "metadata": {
        "id": "uPlf7K-T07d1"
      },
      "outputs": [],
      "source": [
        "store_sales['date']= pd.to_datetime(store_sales['sale_date'])"
      ]
    },
    {
      "cell_type": "code",
      "execution_count": 49,
      "metadata": {
        "colab": {
          "base_uri": "https://localhost:8080/"
        },
        "id": "4PiJI_hb1Qdk",
        "outputId": "23511341-2964-4378-cb15-375544a6f111"
      },
      "outputs": [
        {
          "output_type": "stream",
          "name": "stdout",
          "text": [
            "<class 'pandas.core.frame.DataFrame'>\n",
            "RangeIndex: 415 entries, 0 to 414\n",
            "Data columns (total 3 columns):\n",
            " #   Column     Non-Null Count  Dtype         \n",
            "---  ------     --------------  -----         \n",
            " 0   sale_date  415 non-null    object        \n",
            " 1   revenue    415 non-null    float64       \n",
            " 2   date       415 non-null    datetime64[ns]\n",
            "dtypes: datetime64[ns](1), float64(1), object(1)\n",
            "memory usage: 9.9+ KB\n"
          ]
        }
      ],
      "source": [
        "store_sales.info()"
      ]
    },
    {
      "cell_type": "markdown",
      "metadata": {
        "id": "TK7NBgYg1jLK"
      },
      "source": [
        "Converting data to a months period , and the sum the number of items in each month"
      ]
    },
    {
      "cell_type": "code",
      "execution_count": 50,
      "metadata": {
        "id": "1sxPrL661Y2C"
      },
      "outputs": [],
      "source": [
        "monthly_sales = store_sales.groupby('date').sum().reset_index()\n"
      ]
    },
    {
      "cell_type": "markdown",
      "metadata": {
        "id": "qFXZ0tLG2nrz"
      },
      "source": [
        "Convert The resulting date column to timestamp datatype"
      ]
    },
    {
      "cell_type": "code",
      "execution_count": 51,
      "metadata": {
        "id": "udD02CPQ15Fk"
      },
      "outputs": [],
      "source": [
        "monthly_sales['date'] = pd.to_datetime(monthly_sales['date'])"
      ]
    },
    {
      "cell_type": "code",
      "execution_count": 52,
      "metadata": {
        "colab": {
          "base_uri": "https://localhost:8080/",
          "height": 363
        },
        "id": "rHYP8twV24-u",
        "outputId": "bfa8fc5b-7687-48c2-d1f3-1d39cc24cb51"
      },
      "outputs": [
        {
          "output_type": "execute_result",
          "data": {
            "text/plain": [
              "        date   revenue\n",
              "0 2017-01-01   9296.25\n",
              "1 2017-02-01  14659.78\n",
              "2 2017-03-01  16395.75\n",
              "3 2017-04-01  22140.00\n",
              "4 2017-05-01  29530.54\n",
              "5 2017-06-01  28463.31\n",
              "6 2017-07-01  36042.18\n",
              "7 2017-08-01  47446.39\n",
              "8 2017-09-01  57135.21\n",
              "9 2017-10-01  44339.09"
            ],
            "text/html": [
              "\n",
              "  <div id=\"df-1c1bf591-4cc3-4f00-b263-6c860e9e0e10\" class=\"colab-df-container\">\n",
              "    <div>\n",
              "<style scoped>\n",
              "    .dataframe tbody tr th:only-of-type {\n",
              "        vertical-align: middle;\n",
              "    }\n",
              "\n",
              "    .dataframe tbody tr th {\n",
              "        vertical-align: top;\n",
              "    }\n",
              "\n",
              "    .dataframe thead th {\n",
              "        text-align: right;\n",
              "    }\n",
              "</style>\n",
              "<table border=\"1\" class=\"dataframe\">\n",
              "  <thead>\n",
              "    <tr style=\"text-align: right;\">\n",
              "      <th></th>\n",
              "      <th>date</th>\n",
              "      <th>revenue</th>\n",
              "    </tr>\n",
              "  </thead>\n",
              "  <tbody>\n",
              "    <tr>\n",
              "      <th>0</th>\n",
              "      <td>2017-01-01</td>\n",
              "      <td>9296.25</td>\n",
              "    </tr>\n",
              "    <tr>\n",
              "      <th>1</th>\n",
              "      <td>2017-02-01</td>\n",
              "      <td>14659.78</td>\n",
              "    </tr>\n",
              "    <tr>\n",
              "      <th>2</th>\n",
              "      <td>2017-03-01</td>\n",
              "      <td>16395.75</td>\n",
              "    </tr>\n",
              "    <tr>\n",
              "      <th>3</th>\n",
              "      <td>2017-04-01</td>\n",
              "      <td>22140.00</td>\n",
              "    </tr>\n",
              "    <tr>\n",
              "      <th>4</th>\n",
              "      <td>2017-05-01</td>\n",
              "      <td>29530.54</td>\n",
              "    </tr>\n",
              "    <tr>\n",
              "      <th>5</th>\n",
              "      <td>2017-06-01</td>\n",
              "      <td>28463.31</td>\n",
              "    </tr>\n",
              "    <tr>\n",
              "      <th>6</th>\n",
              "      <td>2017-07-01</td>\n",
              "      <td>36042.18</td>\n",
              "    </tr>\n",
              "    <tr>\n",
              "      <th>7</th>\n",
              "      <td>2017-08-01</td>\n",
              "      <td>47446.39</td>\n",
              "    </tr>\n",
              "    <tr>\n",
              "      <th>8</th>\n",
              "      <td>2017-09-01</td>\n",
              "      <td>57135.21</td>\n",
              "    </tr>\n",
              "    <tr>\n",
              "      <th>9</th>\n",
              "      <td>2017-10-01</td>\n",
              "      <td>44339.09</td>\n",
              "    </tr>\n",
              "  </tbody>\n",
              "</table>\n",
              "</div>\n",
              "    <div class=\"colab-df-buttons\">\n",
              "\n",
              "  <div class=\"colab-df-container\">\n",
              "    <button class=\"colab-df-convert\" onclick=\"convertToInteractive('df-1c1bf591-4cc3-4f00-b263-6c860e9e0e10')\"\n",
              "            title=\"Convert this dataframe to an interactive table.\"\n",
              "            style=\"display:none;\">\n",
              "\n",
              "  <svg xmlns=\"http://www.w3.org/2000/svg\" height=\"24px\" viewBox=\"0 -960 960 960\">\n",
              "    <path d=\"M120-120v-720h720v720H120Zm60-500h600v-160H180v160Zm220 220h160v-160H400v160Zm0 220h160v-160H400v160ZM180-400h160v-160H180v160Zm440 0h160v-160H620v160ZM180-180h160v-160H180v160Zm440 0h160v-160H620v160Z\"/>\n",
              "  </svg>\n",
              "    </button>\n",
              "\n",
              "  <style>\n",
              "    .colab-df-container {\n",
              "      display:flex;\n",
              "      gap: 12px;\n",
              "    }\n",
              "\n",
              "    .colab-df-convert {\n",
              "      background-color: #E8F0FE;\n",
              "      border: none;\n",
              "      border-radius: 50%;\n",
              "      cursor: pointer;\n",
              "      display: none;\n",
              "      fill: #1967D2;\n",
              "      height: 32px;\n",
              "      padding: 0 0 0 0;\n",
              "      width: 32px;\n",
              "    }\n",
              "\n",
              "    .colab-df-convert:hover {\n",
              "      background-color: #E2EBFA;\n",
              "      box-shadow: 0px 1px 2px rgba(60, 64, 67, 0.3), 0px 1px 3px 1px rgba(60, 64, 67, 0.15);\n",
              "      fill: #174EA6;\n",
              "    }\n",
              "\n",
              "    .colab-df-buttons div {\n",
              "      margin-bottom: 4px;\n",
              "    }\n",
              "\n",
              "    [theme=dark] .colab-df-convert {\n",
              "      background-color: #3B4455;\n",
              "      fill: #D2E3FC;\n",
              "    }\n",
              "\n",
              "    [theme=dark] .colab-df-convert:hover {\n",
              "      background-color: #434B5C;\n",
              "      box-shadow: 0px 1px 3px 1px rgba(0, 0, 0, 0.15);\n",
              "      filter: drop-shadow(0px 1px 2px rgba(0, 0, 0, 0.3));\n",
              "      fill: #FFFFFF;\n",
              "    }\n",
              "  </style>\n",
              "\n",
              "    <script>\n",
              "      const buttonEl =\n",
              "        document.querySelector('#df-1c1bf591-4cc3-4f00-b263-6c860e9e0e10 button.colab-df-convert');\n",
              "      buttonEl.style.display =\n",
              "        google.colab.kernel.accessAllowed ? 'block' : 'none';\n",
              "\n",
              "      async function convertToInteractive(key) {\n",
              "        const element = document.querySelector('#df-1c1bf591-4cc3-4f00-b263-6c860e9e0e10');\n",
              "        const dataTable =\n",
              "          await google.colab.kernel.invokeFunction('convertToInteractive',\n",
              "                                                    [key], {});\n",
              "        if (!dataTable) return;\n",
              "\n",
              "        const docLinkHtml = 'Like what you see? Visit the ' +\n",
              "          '<a target=\"_blank\" href=https://colab.research.google.com/notebooks/data_table.ipynb>data table notebook</a>'\n",
              "          + ' to learn more about interactive tables.';\n",
              "        element.innerHTML = '';\n",
              "        dataTable['output_type'] = 'display_data';\n",
              "        await google.colab.output.renderOutput(dataTable, element);\n",
              "        const docLink = document.createElement('div');\n",
              "        docLink.innerHTML = docLinkHtml;\n",
              "        element.appendChild(docLink);\n",
              "      }\n",
              "    </script>\n",
              "  </div>\n",
              "\n",
              "\n",
              "<div id=\"df-ef0cefcf-ea1c-41e8-86ca-5ed16612e61e\">\n",
              "  <button class=\"colab-df-quickchart\" onclick=\"quickchart('df-ef0cefcf-ea1c-41e8-86ca-5ed16612e61e')\"\n",
              "            title=\"Suggest charts\"\n",
              "            style=\"display:none;\">\n",
              "\n",
              "<svg xmlns=\"http://www.w3.org/2000/svg\" height=\"24px\"viewBox=\"0 0 24 24\"\n",
              "     width=\"24px\">\n",
              "    <g>\n",
              "        <path d=\"M19 3H5c-1.1 0-2 .9-2 2v14c0 1.1.9 2 2 2h14c1.1 0 2-.9 2-2V5c0-1.1-.9-2-2-2zM9 17H7v-7h2v7zm4 0h-2V7h2v10zm4 0h-2v-4h2v4z\"/>\n",
              "    </g>\n",
              "</svg>\n",
              "  </button>\n",
              "\n",
              "<style>\n",
              "  .colab-df-quickchart {\n",
              "      --bg-color: #E8F0FE;\n",
              "      --fill-color: #1967D2;\n",
              "      --hover-bg-color: #E2EBFA;\n",
              "      --hover-fill-color: #174EA6;\n",
              "      --disabled-fill-color: #AAA;\n",
              "      --disabled-bg-color: #DDD;\n",
              "  }\n",
              "\n",
              "  [theme=dark] .colab-df-quickchart {\n",
              "      --bg-color: #3B4455;\n",
              "      --fill-color: #D2E3FC;\n",
              "      --hover-bg-color: #434B5C;\n",
              "      --hover-fill-color: #FFFFFF;\n",
              "      --disabled-bg-color: #3B4455;\n",
              "      --disabled-fill-color: #666;\n",
              "  }\n",
              "\n",
              "  .colab-df-quickchart {\n",
              "    background-color: var(--bg-color);\n",
              "    border: none;\n",
              "    border-radius: 50%;\n",
              "    cursor: pointer;\n",
              "    display: none;\n",
              "    fill: var(--fill-color);\n",
              "    height: 32px;\n",
              "    padding: 0;\n",
              "    width: 32px;\n",
              "  }\n",
              "\n",
              "  .colab-df-quickchart:hover {\n",
              "    background-color: var(--hover-bg-color);\n",
              "    box-shadow: 0 1px 2px rgba(60, 64, 67, 0.3), 0 1px 3px 1px rgba(60, 64, 67, 0.15);\n",
              "    fill: var(--button-hover-fill-color);\n",
              "  }\n",
              "\n",
              "  .colab-df-quickchart-complete:disabled,\n",
              "  .colab-df-quickchart-complete:disabled:hover {\n",
              "    background-color: var(--disabled-bg-color);\n",
              "    fill: var(--disabled-fill-color);\n",
              "    box-shadow: none;\n",
              "  }\n",
              "\n",
              "  .colab-df-spinner {\n",
              "    border: 2px solid var(--fill-color);\n",
              "    border-color: transparent;\n",
              "    border-bottom-color: var(--fill-color);\n",
              "    animation:\n",
              "      spin 1s steps(1) infinite;\n",
              "  }\n",
              "\n",
              "  @keyframes spin {\n",
              "    0% {\n",
              "      border-color: transparent;\n",
              "      border-bottom-color: var(--fill-color);\n",
              "      border-left-color: var(--fill-color);\n",
              "    }\n",
              "    20% {\n",
              "      border-color: transparent;\n",
              "      border-left-color: var(--fill-color);\n",
              "      border-top-color: var(--fill-color);\n",
              "    }\n",
              "    30% {\n",
              "      border-color: transparent;\n",
              "      border-left-color: var(--fill-color);\n",
              "      border-top-color: var(--fill-color);\n",
              "      border-right-color: var(--fill-color);\n",
              "    }\n",
              "    40% {\n",
              "      border-color: transparent;\n",
              "      border-right-color: var(--fill-color);\n",
              "      border-top-color: var(--fill-color);\n",
              "    }\n",
              "    60% {\n",
              "      border-color: transparent;\n",
              "      border-right-color: var(--fill-color);\n",
              "    }\n",
              "    80% {\n",
              "      border-color: transparent;\n",
              "      border-right-color: var(--fill-color);\n",
              "      border-bottom-color: var(--fill-color);\n",
              "    }\n",
              "    90% {\n",
              "      border-color: transparent;\n",
              "      border-bottom-color: var(--fill-color);\n",
              "    }\n",
              "  }\n",
              "</style>\n",
              "\n",
              "  <script>\n",
              "    async function quickchart(key) {\n",
              "      const quickchartButtonEl =\n",
              "        document.querySelector('#' + key + ' button');\n",
              "      quickchartButtonEl.disabled = true;  // To prevent multiple clicks.\n",
              "      quickchartButtonEl.classList.add('colab-df-spinner');\n",
              "      try {\n",
              "        const charts = await google.colab.kernel.invokeFunction(\n",
              "            'suggestCharts', [key], {});\n",
              "      } catch (error) {\n",
              "        console.error('Error during call to suggestCharts:', error);\n",
              "      }\n",
              "      quickchartButtonEl.classList.remove('colab-df-spinner');\n",
              "      quickchartButtonEl.classList.add('colab-df-quickchart-complete');\n",
              "    }\n",
              "    (() => {\n",
              "      let quickchartButtonEl =\n",
              "        document.querySelector('#df-ef0cefcf-ea1c-41e8-86ca-5ed16612e61e button');\n",
              "      quickchartButtonEl.style.display =\n",
              "        google.colab.kernel.accessAllowed ? 'block' : 'none';\n",
              "    })();\n",
              "  </script>\n",
              "</div>\n",
              "    </div>\n",
              "  </div>\n"
            ]
          },
          "metadata": {},
          "execution_count": 52
        }
      ],
      "source": [
        "monthly_sales.head(10)"
      ]
    },
    {
      "cell_type": "markdown",
      "metadata": {
        "id": "Bx5sgolK3HtM"
      },
      "source": [
        "Visualization"
      ]
    },
    {
      "cell_type": "code",
      "execution_count": 53,
      "metadata": {
        "colab": {
          "base_uri": "https://localhost:8080/",
          "height": 487
        },
        "id": "sHJOpYDf3AmM",
        "outputId": "e357d480-caad-4378-ce2e-9be1855e44aa"
      },
      "outputs": [
        {
          "output_type": "display_data",
          "data": {
            "text/plain": [
              "<Figure size 1500x500 with 1 Axes>"
            ],
            "image/png": "[encoded data removed]"
          },
          "metadata": {}
        }
      ],
      "source": [
        "plt.figure(figsize=(15,5))\n",
        "plt.plot(monthly_sales['date'],monthly_sales['revenue'])\n",
        "plt.xlabel(\"Data\")\n",
        "plt.ylabel('revenue')\n",
        "plt.legend('Revenue')\n",
        "plt.title('Monthly Customer Revenue')\n",
        "plt.show()"
      ]
    },
    {
      "cell_type": "markdown",
      "metadata": {
        "id": "US-lqfpb4H8Z"
      },
      "source": [
        "Call the differenc on the sales columns to make the sales data stationary"
      ]
    },
    {
      "cell_type": "code",
      "execution_count": 54,
      "metadata": {
        "colab": {
          "base_uri": "https://localhost:8080/",
          "height": 363
        },
        "id": "HYWTLCmL3yk5",
        "outputId": "8c643db8-e236-4054-efd0-b555b75cd557"
      },
      "outputs": [
        {
          "output_type": "execute_result",
          "data": {
            "text/plain": [
              "         date     revenue  sales_diff\n",
              "73 2023-02-01  3587870.03   169328.99\n",
              "74 2023-03-01  4529161.48   941291.45\n",
              "75 2023-04-01  3125277.50 -1403883.98\n",
              "76 2023-05-01  3392057.29   266779.79\n",
              "77 2023-06-01  6487162.24  3095104.95\n",
              "78 2023-07-01  3229646.04 -3257516.20\n",
              "79 2023-08-01  2723207.45  -506438.59\n",
              "80 2023-09-01  4699592.65  1976385.20\n",
              "81 2023-10-01  3409722.53 -1289870.12\n",
              "82 2023-11-01   221323.65 -3188398.88"
            ],
            "text/html": [
              "\n",
              "  <div id=\"df-23e44468-3ab4-4bc9-87e2-6ac160293634\" class=\"colab-df-container\">\n",
              "    <div>\n",
              "<style scoped>\n",
              "    .dataframe tbody tr th:only-of-type {\n",
              "        vertical-align: middle;\n",
              "    }\n",
              "\n",
              "    .dataframe tbody tr th {\n",
              "        vertical-align: top;\n",
              "    }\n",
              "\n",
              "    .dataframe thead th {\n",
              "        text-align: right;\n",
              "    }\n",
              "</style>\n",
              "<table border=\"1\" class=\"dataframe\">\n",
              "  <thead>\n",
              "    <tr style=\"text-align: right;\">\n",
              "      <th></th>\n",
              "      <th>date</th>\n",
              "      <th>revenue</th>\n",
              "      <th>sales_diff</th>\n",
              "    </tr>\n",
              "  </thead>\n",
              "  <tbody>\n",
              "    <tr>\n",
              "      <th>73</th>\n",
              "      <td>2023-02-01</td>\n",
              "      <td>3587870.03</td>\n",
              "      <td>169328.99</td>\n",
              "    </tr>\n",
              "    <tr>\n",
              "      <th>74</th>\n",
              "      <td>2023-03-01</td>\n",
              "      <td>4529161.48</td>\n",
              "      <td>941291.45</td>\n",
              "    </tr>\n",
              "    <tr>\n",
              "      <th>75</th>\n",
              "      <td>2023-04-01</td>\n",
              "      <td>3125277.50</td>\n",
              "      <td>-1403883.98</td>\n",
              "    </tr>\n",
              "    <tr>\n",
              "      <th>76</th>\n",
              "      <td>2023-05-01</td>\n",
              "      <td>3392057.29</td>\n",
              "      <td>266779.79</td>\n",
              "    </tr>\n",
              "    <tr>\n",
              "      <th>77</th>\n",
              "      <td>2023-06-01</td>\n",
              "      <td>6487162.24</td>\n",
              "      <td>3095104.95</td>\n",
              "    </tr>\n",
              "    <tr>\n",
              "      <th>78</th>\n",
              "      <td>2023-07-01</td>\n",
              "      <td>3229646.04</td>\n",
              "      <td>-3257516.20</td>\n",
              "    </tr>\n",
              "    <tr>\n",
              "      <th>79</th>\n",
              "      <td>2023-08-01</td>\n",
              "      <td>2723207.45</td>\n",
              "      <td>-506438.59</td>\n",
              "    </tr>\n",
              "    <tr>\n",
              "      <th>80</th>\n",
              "      <td>2023-09-01</td>\n",
              "      <td>4699592.65</td>\n",
              "      <td>1976385.20</td>\n",
              "    </tr>\n",
              "    <tr>\n",
              "      <th>81</th>\n",
              "      <td>2023-10-01</td>\n",
              "      <td>3409722.53</td>\n",
              "      <td>-1289870.12</td>\n",
              "    </tr>\n",
              "    <tr>\n",
              "      <th>82</th>\n",
              "      <td>2023-11-01</td>\n",
              "      <td>221323.65</td>\n",
              "      <td>-3188398.88</td>\n",
              "    </tr>\n",
              "  </tbody>\n",
              "</table>\n",
              "</div>\n",
              "    <div class=\"colab-df-buttons\">\n",
              "\n",
              "  <div class=\"colab-df-container\">\n",
              "    <button class=\"colab-df-convert\" onclick=\"convertToInteractive('df-23e44468-3ab4-4bc9-87e2-6ac160293634')\"\n",
              "            title=\"Convert this dataframe to an interactive table.\"\n",
              "            style=\"display:none;\">\n",
              "\n",
              "  <svg xmlns=\"http://www.w3.org/2000/svg\" height=\"24px\" viewBox=\"0 -960 960 960\">\n",
              "    <path d=\"M120-120v-720h720v720H120Zm60-500h600v-160H180v160Zm220 220h160v-160H400v160Zm0 220h160v-160H400v160ZM180-400h160v-160H180v160Zm440 0h160v-160H620v160ZM180-180h160v-160H180v160Zm440 0h160v-160H620v160Z\"/>\n",
              "  </svg>\n",
              "    </button>\n",
              "\n",
              "  <style>\n",
              "    .colab-df-container {\n",
              "      display:flex;\n",
              "      gap: 12px;\n",
              "    }\n",
              "\n",
              "    .colab-df-convert {\n",
              "      background-color: #E8F0FE;\n",
              "      border: none;\n",
              "      border-radius: 50%;\n",
              "      cursor: pointer;\n",
              "      display: none;\n",
              "      fill: #1967D2;\n",
              "      height: 32px;\n",
              "      padding: 0 0 0 0;\n",
              "      width: 32px;\n",
              "    }\n",
              "\n",
              "    .colab-df-convert:hover {\n",
              "      background-color: #E2EBFA;\n",
              "      box-shadow: 0px 1px 2px rgba(60, 64, 67, 0.3), 0px 1px 3px 1px rgba(60, 64, 67, 0.15);\n",
              "      fill: #174EA6;\n",
              "    }\n",
              "\n",
              "    .colab-df-buttons div {\n",
              "      margin-bottom: 4px;\n",
              "    }\n",
              "\n",
              "    [theme=dark] .colab-df-convert {\n",
              "      background-color: #3B4455;\n",
              "      fill: #D2E3FC;\n",
              "    }\n",
              "\n",
              "    [theme=dark] .colab-df-convert:hover {\n",
              "      background-color: #434B5C;\n",
              "      box-shadow: 0px 1px 3px 1px rgba(0, 0, 0, 0.15);\n",
              "      filter: drop-shadow(0px 1px 2px rgba(0, 0, 0, 0.3));\n",
              "      fill: #FFFFFF;\n",
              "    }\n",
              "  </style>\n",
              "\n",
              "    <script>\n",
              "      const buttonEl =\n",
              "        document.querySelector('#df-23e44468-3ab4-4bc9-87e2-6ac160293634 button.colab-df-convert');\n",
              "      buttonEl.style.display =\n",
              "        google.colab.kernel.accessAllowed ? 'block' : 'none';\n",
              "\n",
              "      async function convertToInteractive(key) {\n",
              "        const element = document.querySelector('#df-23e44468-3ab4-4bc9-87e2-6ac160293634');\n",
              "        const dataTable =\n",
              "          await google.colab.kernel.invokeFunction('convertToInteractive',\n",
              "                                                    [key], {});\n",
              "        if (!dataTable) return;\n",
              "\n",
              "        const docLinkHtml = 'Like what you see? Visit the ' +\n",
              "          '<a target=\"_blank\" href=https://colab.research.google.com/notebooks/data_table.ipynb>data table notebook</a>'\n",
              "          + ' to learn more about interactive tables.';\n",
              "        element.innerHTML = '';\n",
              "        dataTable['output_type'] = 'display_data';\n",
              "        await google.colab.output.renderOutput(dataTable, element);\n",
              "        const docLink = document.createElement('div');\n",
              "        docLink.innerHTML = docLinkHtml;\n",
              "        element.appendChild(docLink);\n",
              "      }\n",
              "    </script>\n",
              "  </div>\n",
              "\n",
              "\n",
              "<div id=\"df-60409b43-8999-4c9a-a81b-c481871f76ca\">\n",
              "  <button class=\"colab-df-quickchart\" onclick=\"quickchart('df-60409b43-8999-4c9a-a81b-c481871f76ca')\"\n",
              "            title=\"Suggest charts\"\n",
              "            style=\"display:none;\">\n",
              "\n",
              "<svg xmlns=\"http://www.w3.org/2000/svg\" height=\"24px\"viewBox=\"0 0 24 24\"\n",
              "     width=\"24px\">\n",
              "    <g>\n",
              "        <path d=\"M19 3H5c-1.1 0-2 .9-2 2v14c0 1.1.9 2 2 2h14c1.1 0 2-.9 2-2V5c0-1.1-.9-2-2-2zM9 17H7v-7h2v7zm4 0h-2V7h2v10zm4 0h-2v-4h2v4z\"/>\n",
              "    </g>\n",
              "</svg>\n",
              "  </button>\n",
              "\n",
              "<style>\n",
              "  .colab-df-quickchart {\n",
              "      --bg-color: #E8F0FE;\n",
              "      --fill-color: #1967D2;\n",
              "      --hover-bg-color: #E2EBFA;\n",
              "      --hover-fill-color: #174EA6;\n",
              "      --disabled-fill-color: #AAA;\n",
              "      --disabled-bg-color: #DDD;\n",
              "  }\n",
              "\n",
              "  [theme=dark] .colab-df-quickchart {\n",
              "      --bg-color: #3B4455;\n",
              "      --fill-color: #D2E3FC;\n",
              "      --hover-bg-color: #434B5C;\n",
              "      --hover-fill-color: #FFFFFF;\n",
              "      --disabled-bg-color: #3B4455;\n",
              "      --disabled-fill-color: #666;\n",
              "  }\n",
              "\n",
              "  .colab-df-quickchart {\n",
              "    background-color: var(--bg-color);\n",
              "    border: none;\n",
              "    border-radius: 50%;\n",
              "    cursor: pointer;\n",
              "    display: none;\n",
              "    fill: var(--fill-color);\n",
              "    height: 32px;\n",
              "    padding: 0;\n",
              "    width: 32px;\n",
              "  }\n",
              "\n",
              "  .colab-df-quickchart:hover {\n",
              "    background-color: var(--hover-bg-color);\n",
              "    box-shadow: 0 1px 2px rgba(60, 64, 67, 0.3), 0 1px 3px 1px rgba(60, 64, 67, 0.15);\n",
              "    fill: var(--button-hover-fill-color);\n",
              "  }\n",
              "\n",
              "  .colab-df-quickchart-complete:disabled,\n",
              "  .colab-df-quickchart-complete:disabled:hover {\n",
              "    background-color: var(--disabled-bg-color);\n",
              "    fill: var(--disabled-fill-color);\n",
              "    box-shadow: none;\n",
              "  }\n",
              "\n",
              "  .colab-df-spinner {\n",
              "    border: 2px solid var(--fill-color);\n",
              "    border-color: transparent;\n",
              "    border-bottom-color: var(--fill-color);\n",
              "    animation:\n",
              "      spin 1s steps(1) infinite;\n",
              "  }\n",
              "\n",
              "  @keyframes spin {\n",
              "    0% {\n",
              "      border-color: transparent;\n",
              "      border-bottom-color: var(--fill-color);\n",
              "      border-left-color: var(--fill-color);\n",
              "    }\n",
              "    20% {\n",
              "      border-color: transparent;\n",
              "      border-left-color: var(--fill-color);\n",
              "      border-top-color: var(--fill-color);\n",
              "    }\n",
              "    30% {\n",
              "      border-color: transparent;\n",
              "      border-left-color: var(--fill-color);\n",
              "      border-top-color: var(--fill-color);\n",
              "      border-right-color: var(--fill-color);\n",
              "    }\n",
              "    40% {\n",
              "      border-color: transparent;\n",
              "      border-right-color: var(--fill-color);\n",
              "      border-top-color: var(--fill-color);\n",
              "    }\n",
              "    60% {\n",
              "      border-color: transparent;\n",
              "      border-right-color: var(--fill-color);\n",
              "    }\n",
              "    80% {\n",
              "      border-color: transparent;\n",
              "      border-right-color: var(--fill-color);\n",
              "      border-bottom-color: var(--fill-color);\n",
              "    }\n",
              "    90% {\n",
              "      border-color: transparent;\n",
              "      border-bottom-color: var(--fill-color);\n",
              "    }\n",
              "  }\n",
              "</style>\n",
              "\n",
              "  <script>\n",
              "    async function quickchart(key) {\n",
              "      const quickchartButtonEl =\n",
              "        document.querySelector('#' + key + ' button');\n",
              "      quickchartButtonEl.disabled = true;  // To prevent multiple clicks.\n",
              "      quickchartButtonEl.classList.add('colab-df-spinner');\n",
              "      try {\n",
              "        const charts = await google.colab.kernel.invokeFunction(\n",
              "            'suggestCharts', [key], {});\n",
              "      } catch (error) {\n",
              "        console.error('Error during call to suggestCharts:', error);\n",
              "      }\n",
              "      quickchartButtonEl.classList.remove('colab-df-spinner');\n",
              "      quickchartButtonEl.classList.add('colab-df-quickchart-complete');\n",
              "    }\n",
              "    (() => {\n",
              "      let quickchartButtonEl =\n",
              "        document.querySelector('#df-60409b43-8999-4c9a-a81b-c481871f76ca button');\n",
              "      quickchartButtonEl.style.display =\n",
              "        google.colab.kernel.accessAllowed ? 'block' : 'none';\n",
              "    })();\n",
              "  </script>\n",
              "</div>\n",
              "    </div>\n",
              "  </div>\n"
            ]
          },
          "metadata": {},
          "execution_count": 54
        }
      ],
      "source": [
        "monthly_sales['sales_diff']= monthly_sales['revenue'].diff()\n",
        "monthly_sales= monthly_sales.dropna()\n",
        "monthly_sales.tail(10)"
      ]
    },
    {
      "cell_type": "code",
      "execution_count": 55,
      "metadata": {
        "colab": {
          "base_uri": "https://localhost:8080/",
          "height": 487
        },
        "id": "lvNoPcZIwr0d",
        "outputId": "d27b8ff7-8b02-4978-bdee-9f70bef4d0a7"
      },
      "outputs": [
        {
          "output_type": "display_data",
          "data": {
            "text/plain": [
              "<Figure size 1500x500 with 1 Axes>"
            ],
            "image/png": "[encoded data removed]"
          },
          "metadata": {}
        }
      ],
      "source": [
        "plt.figure(figsize=(15,5))\n",
        "plt.plot(monthly_sales['date'],monthly_sales['revenue'])\n",
        "plt.xlabel(\"Data\")\n",
        "plt.ylabel('revenue')\n",
        "plt.title('Monthly Customer sales difference ')\n",
        "plt.show()"
      ]
    },
    {
      "cell_type": "code",
      "execution_count": 56,
      "metadata": {
        "colab": {
          "base_uri": "https://localhost:8080/"
        },
        "id": "3GTR7uyCAK5Z",
        "outputId": "32e000d7-e050-459f-8f4f-f3c8d41643b6"
      },
      "outputs": [
        {
          "output_type": "execute_result",
          "data": {
            "text/plain": [
              "(82, 3)"
            ]
          },
          "metadata": {},
          "execution_count": 56
        }
      ],
      "source": [
        "monthly_sales.shape"
      ]
    },
    {
      "cell_type": "code",
      "execution_count": 57,
      "metadata": {
        "colab": {
          "base_uri": "https://localhost:8080/",
          "height": 487
        },
        "id": "mcDY2ATJwr0d",
        "outputId": "424574cc-220f-4a56-89c9-d0d06db3181c"
      },
      "outputs": [
        {
          "output_type": "display_data",
          "data": {
            "text/plain": [
              "<Figure size 1500x500 with 2 Axes>"
            ],
            "image/png": "[encoded data removed]"
          },
          "metadata": {}
        }
      ],
      "source": [
        "# Plot actual revenue\n",
        "fig, ax1 = plt.subplots(figsize=(15, 5))\n",
        "\n",
        "color = 'tab:red'\n",
        "ax1.set_xlabel('Date')\n",
        "ax1.set_ylabel('Revenue', color=color)\n",
        "ax1.plot(monthly_sales['date'], monthly_sales['revenue'], color=color)\n",
        "ax1.tick_params(axis='y', labelcolor=color)\n",
        "ax1.legend(['Actual Revenue'], loc='upper left')\n",
        "\n",
        "# Create a secondary y-axis for the revenue differences\n",
        "ax2 = ax1.twinx()\n",
        "color = 'tab:blue'\n",
        "ax2.set_ylabel('Revenue Difference', color=color)\n",
        "ax2.plot(monthly_sales['date'], monthly_sales['sales_diff'], color=color)\n",
        "ax2.tick_params(axis='y', labelcolor=color)\n",
        "ax2.legend(['Revenue Difference'], loc='upper right')\n",
        "\n",
        "plt.title('Monthly Customer Revenue and Revenue Difference')\n",
        "plt.show()"
      ]
    },
    {
      "cell_type": "markdown",
      "metadata": {
        "id": "N2g4DFYW5G6u"
      },
      "source": [
        "Droping sales and date"
      ]
    },
    {
      "cell_type": "code",
      "execution_count": 58,
      "metadata": {
        "id": "9d7o01QY5Q-A"
      },
      "outputs": [],
      "source": [
        "supervised_data= monthly_sales.drop(['date','revenue'], axis=1)"
      ]
    },
    {
      "cell_type": "markdown",
      "metadata": {
        "id": "5C8UzE7n5nLq"
      },
      "source": [
        "Preparing the supervise data"
      ]
    },
    {
      "cell_type": "code",
      "execution_count": 59,
      "metadata": {
        "colab": {
          "base_uri": "https://localhost:8080/",
          "height": 363
        },
        "id": "5Xvtxxvr5lUb",
        "outputId": "c8dc675c-9afc-4063-9436-3fe1193ce385"
      },
      "outputs": [
        {
          "output_type": "execute_result",
          "data": {
            "text/plain": [
              "   sales_diff   month_1   month_2   month_3   month_4   month_5   month_6  \\\n",
              "0      -44.13  10284.35   4542.62   7958.87 -12796.12   9688.82  11404.21   \n",
              "1    13664.51    -44.13  10284.35   4542.62   7958.87 -12796.12   9688.82   \n",
              "2    -9871.00  13664.51    -44.13  10284.35   4542.62   7958.87 -12796.12   \n",
              "3    51704.96  -9871.00  13664.51    -44.13  10284.35   4542.62   7958.87   \n",
              "4    -7494.14  51704.96  -9871.00  13664.51    -44.13  10284.35   4542.62   \n",
              "5     3122.68  -7494.14  51704.96  -9871.00  13664.51    -44.13  10284.35   \n",
              "6    32079.93   3122.68  -7494.14  51704.96  -9871.00  13664.51    -44.13   \n",
              "7    18401.84  32079.93   3122.68  -7494.14  51704.96  -9871.00  13664.51   \n",
              "8    57225.27  18401.84  32079.93   3122.68  -7494.14  51704.96  -9871.00   \n",
              "9   -28890.38  57225.27  18401.84  32079.93   3122.68  -7494.14  51704.96   \n",
              "\n",
              "    month_7   month_8   month_9  month_10  month_11  month_12  \n",
              "0   7578.87  -1067.23   7390.54   5744.25   1735.97   5363.53  \n",
              "1  11404.21   7578.87  -1067.23   7390.54   5744.25   1735.97  \n",
              "2   9688.82  11404.21   7578.87  -1067.23   7390.54   5744.25  \n",
              "3 -12796.12   9688.82  11404.21   7578.87  -1067.23   7390.54  \n",
              "4   7958.87 -12796.12   9688.82  11404.21   7578.87  -1067.23  \n",
              "5   4542.62   7958.87 -12796.12   9688.82  11404.21   7578.87  \n",
              "6  10284.35   4542.62   7958.87 -12796.12   9688.82  11404.21  \n",
              "7    -44.13  10284.35   4542.62   7958.87 -12796.12   9688.82  \n",
              "8  13664.51    -44.13  10284.35   4542.62   7958.87 -12796.12  \n",
              "9  -9871.00  13664.51    -44.13  10284.35   4542.62   7958.87  "
            ],
            "text/html": [
              "\n",
              "  <div id=\"df-d64cebc1-6810-4682-87a6-23200958a739\" class=\"colab-df-container\">\n",
              "    <div>\n",
              "<style scoped>\n",
              "    .dataframe tbody tr th:only-of-type {\n",
              "        vertical-align: middle;\n",
              "    }\n",
              "\n",
              "    .dataframe tbody tr th {\n",
              "        vertical-align: top;\n",
              "    }\n",
              "\n",
              "    .dataframe thead th {\n",
              "        text-align: right;\n",
              "    }\n",
              "</style>\n",
              "<table border=\"1\" class=\"dataframe\">\n",
              "  <thead>\n",
              "    <tr style=\"text-align: right;\">\n",
              "      <th></th>\n",
              "      <th>sales_diff</th>\n",
              "      <th>month_1</th>\n",
              "      <th>month_2</th>\n",
              "      <th>month_3</th>\n",
              "      <th>month_4</th>\n",
              "      <th>month_5</th>\n",
              "      <th>month_6</th>\n",
              "      <th>month_7</th>\n",
              "      <th>month_8</th>\n",
              "      <th>month_9</th>\n",
              "      <th>month_10</th>\n",
              "      <th>month_11</th>\n",
              "      <th>month_12</th>\n",
              "    </tr>\n",
              "  </thead>\n",
              "  <tbody>\n",
              "    <tr>\n",
              "      <th>0</th>\n",
              "      <td>-44.13</td>\n",
              "      <td>10284.35</td>\n",
              "      <td>4542.62</td>\n",
              "      <td>7958.87</td>\n",
              "      <td>-12796.12</td>\n",
              "      <td>9688.82</td>\n",
              "      <td>11404.21</td>\n",
              "      <td>7578.87</td>\n",
              "      <td>-1067.23</td>\n",
              "      <td>7390.54</td>\n",
              "      <td>5744.25</td>\n",
              "      <td>1735.97</td>\n",
              "      <td>5363.53</td>\n",
              "    </tr>\n",
              "    <tr>\n",
              "      <th>1</th>\n",
              "      <td>13664.51</td>\n",
              "      <td>-44.13</td>\n",
              "      <td>10284.35</td>\n",
              "      <td>4542.62</td>\n",
              "      <td>7958.87</td>\n",
              "      <td>-12796.12</td>\n",
              "      <td>9688.82</td>\n",
              "      <td>11404.21</td>\n",
              "      <td>7578.87</td>\n",
              "      <td>-1067.23</td>\n",
              "      <td>7390.54</td>\n",
              "      <td>5744.25</td>\n",
              "      <td>1735.97</td>\n",
              "    </tr>\n",
              "    <tr>\n",
              "      <th>2</th>\n",
              "      <td>-9871.00</td>\n",
              "      <td>13664.51</td>\n",
              "      <td>-44.13</td>\n",
              "      <td>10284.35</td>\n",
              "      <td>4542.62</td>\n",
              "      <td>7958.87</td>\n",
              "      <td>-12796.12</td>\n",
              "      <td>9688.82</td>\n",
              "      <td>11404.21</td>\n",
              "      <td>7578.87</td>\n",
              "      <td>-1067.23</td>\n",
              "      <td>7390.54</td>\n",
              "      <td>5744.25</td>\n",
              "    </tr>\n",
              "    <tr>\n",
              "      <th>3</th>\n",
              "      <td>51704.96</td>\n",
              "      <td>-9871.00</td>\n",
              "      <td>13664.51</td>\n",
              "      <td>-44.13</td>\n",
              "      <td>10284.35</td>\n",
              "      <td>4542.62</td>\n",
              "      <td>7958.87</td>\n",
              "      <td>-12796.12</td>\n",
              "      <td>9688.82</td>\n",
              "      <td>11404.21</td>\n",
              "      <td>7578.87</td>\n",
              "      <td>-1067.23</td>\n",
              "      <td>7390.54</td>\n",
              "    </tr>\n",
              "    <tr>\n",
              "      <th>4</th>\n",
              "      <td>-7494.14</td>\n",
              "      <td>51704.96</td>\n",
              "      <td>-9871.00</td>\n",
              "      <td>13664.51</td>\n",
              "      <td>-44.13</td>\n",
              "      <td>10284.35</td>\n",
              "      <td>4542.62</td>\n",
              "      <td>7958.87</td>\n",
              "      <td>-12796.12</td>\n",
              "      <td>9688.82</td>\n",
              "      <td>11404.21</td>\n",
              "      <td>7578.87</td>\n",
              "      <td>-1067.23</td>\n",
              "    </tr>\n",
              "    <tr>\n",
              "      <th>5</th>\n",
              "      <td>3122.68</td>\n",
              "      <td>-7494.14</td>\n",
              "      <td>51704.96</td>\n",
              "      <td>-9871.00</td>\n",
              "      <td>13664.51</td>\n",
              "      <td>-44.13</td>\n",
              "      <td>10284.35</td>\n",
              "      <td>4542.62</td>\n",
              "      <td>7958.87</td>\n",
              "      <td>-12796.12</td>\n",
              "      <td>9688.82</td>\n",
              "      <td>11404.21</td>\n",
              "      <td>7578.87</td>\n",
              "    </tr>\n",
              "    <tr>\n",
              "      <th>6</th>\n",
              "      <td>32079.93</td>\n",
              "      <td>3122.68</td>\n",
              "      <td>-7494.14</td>\n",
              "      <td>51704.96</td>\n",
              "      <td>-9871.00</td>\n",
              "      <td>13664.51</td>\n",
              "      <td>-44.13</td>\n",
              "      <td>10284.35</td>\n",
              "      <td>4542.62</td>\n",
              "      <td>7958.87</td>\n",
              "      <td>-12796.12</td>\n",
              "      <td>9688.82</td>\n",
              "      <td>11404.21</td>\n",
              "    </tr>\n",
              "    <tr>\n",
              "      <th>7</th>\n",
              "      <td>18401.84</td>\n",
              "      <td>32079.93</td>\n",
              "      <td>3122.68</td>\n",
              "      <td>-7494.14</td>\n",
              "      <td>51704.96</td>\n",
              "      <td>-9871.00</td>\n",
              "      <td>13664.51</td>\n",
              "      <td>-44.13</td>\n",
              "      <td>10284.35</td>\n",
              "      <td>4542.62</td>\n",
              "      <td>7958.87</td>\n",
              "      <td>-12796.12</td>\n",
              "      <td>9688.82</td>\n",
              "    </tr>\n",
              "    <tr>\n",
              "      <th>8</th>\n",
              "      <td>57225.27</td>\n",
              "      <td>18401.84</td>\n",
              "      <td>32079.93</td>\n",
              "      <td>3122.68</td>\n",
              "      <td>-7494.14</td>\n",
              "      <td>51704.96</td>\n",
              "      <td>-9871.00</td>\n",
              "      <td>13664.51</td>\n",
              "      <td>-44.13</td>\n",
              "      <td>10284.35</td>\n",
              "      <td>4542.62</td>\n",
              "      <td>7958.87</td>\n",
              "      <td>-12796.12</td>\n",
              "    </tr>\n",
              "    <tr>\n",
              "      <th>9</th>\n",
              "      <td>-28890.38</td>\n",
              "      <td>57225.27</td>\n",
              "      <td>18401.84</td>\n",
              "      <td>32079.93</td>\n",
              "      <td>3122.68</td>\n",
              "      <td>-7494.14</td>\n",
              "      <td>51704.96</td>\n",
              "      <td>-9871.00</td>\n",
              "      <td>13664.51</td>\n",
              "      <td>-44.13</td>\n",
              "      <td>10284.35</td>\n",
              "      <td>4542.62</td>\n",
              "      <td>7958.87</td>\n",
              "    </tr>\n",
              "  </tbody>\n",
              "</table>\n",
              "</div>\n",
              "    <div class=\"colab-df-buttons\">\n",
              "\n",
              "  <div class=\"colab-df-container\">\n",
              "    <button class=\"colab-df-convert\" onclick=\"convertToInteractive('df-d64cebc1-6810-4682-87a6-23200958a739')\"\n",
              "            title=\"Convert this dataframe to an interactive table.\"\n",
              "            style=\"display:none;\">\n",
              "\n",
              "  <svg xmlns=\"http://www.w3.org/2000/svg\" height=\"24px\" viewBox=\"0 -960 960 960\">\n",
              "    <path d=\"M120-120v-720h720v720H120Zm60-500h600v-160H180v160Zm220 220h160v-160H400v160Zm0 220h160v-160H400v160ZM180-400h160v-160H180v160Zm440 0h160v-160H620v160ZM180-180h160v-160H180v160Zm440 0h160v-160H620v160Z\"/>\n",
              "  </svg>\n",
              "    </button>\n",
              "\n",
              "  <style>\n",
              "    .colab-df-container {\n",
              "      display:flex;\n",
              "      gap: 12px;\n",
              "    }\n",
              "\n",
              "    .colab-df-convert {\n",
              "      background-color: #E8F0FE;\n",
              "      border: none;\n",
              "      border-radius: 50%;\n",
              "      cursor: pointer;\n",
              "      display: none;\n",
              "      fill: #1967D2;\n",
              "      height: 32px;\n",
              "      padding: 0 0 0 0;\n",
              "      width: 32px;\n",
              "    }\n",
              "\n",
              "    .colab-df-convert:hover {\n",
              "      background-color: #E2EBFA;\n",
              "      box-shadow: 0px 1px 2px rgba(60, 64, 67, 0.3), 0px 1px 3px 1px rgba(60, 64, 67, 0.15);\n",
              "      fill: #174EA6;\n",
              "    }\n",
              "\n",
              "    .colab-df-buttons div {\n",
              "      margin-bottom: 4px;\n",
              "    }\n",
              "\n",
              "    [theme=dark] .colab-df-convert {\n",
              "      background-color: #3B4455;\n",
              "      fill: #D2E3FC;\n",
              "    }\n",
              "\n",
              "    [theme=dark] .colab-df-convert:hover {\n",
              "      background-color: #434B5C;\n",
              "      box-shadow: 0px 1px 3px 1px rgba(0, 0, 0, 0.15);\n",
              "      filter: drop-shadow(0px 1px 2px rgba(0, 0, 0, 0.3));\n",
              "      fill: #FFFFFF;\n",
              "    }\n",
              "  </style>\n",
              "\n",
              "    <script>\n",
              "      const buttonEl =\n",
              "        document.querySelector('#df-d64cebc1-6810-4682-87a6-23200958a739 button.colab-df-convert');\n",
              "      buttonEl.style.display =\n",
              "        google.colab.kernel.accessAllowed ? 'block' : 'none';\n",
              "\n",
              "      async function convertToInteractive(key) {\n",
              "        const element = document.querySelector('#df-d64cebc1-6810-4682-87a6-23200958a739');\n",
              "        const dataTable =\n",
              "          await google.colab.kernel.invokeFunction('convertToInteractive',\n",
              "                                                    [key], {});\n",
              "        if (!dataTable) return;\n",
              "\n",
              "        const docLinkHtml = 'Like what you see? Visit the ' +\n",
              "          '<a target=\"_blank\" href=https://colab.research.google.com/notebooks/data_table.ipynb>data table notebook</a>'\n",
              "          + ' to learn more about interactive tables.';\n",
              "        element.innerHTML = '';\n",
              "        dataTable['output_type'] = 'display_data';\n",
              "        await google.colab.output.renderOutput(dataTable, element);\n",
              "        const docLink = document.createElement('div');\n",
              "        docLink.innerHTML = docLinkHtml;\n",
              "        element.appendChild(docLink);\n",
              "      }\n",
              "    </script>\n",
              "  </div>\n",
              "\n",
              "\n",
              "<div id=\"df-76f1529e-7e43-4138-9ea1-abefd803bfb9\">\n",
              "  <button class=\"colab-df-quickchart\" onclick=\"quickchart('df-76f1529e-7e43-4138-9ea1-abefd803bfb9')\"\n",
              "            title=\"Suggest charts\"\n",
              "            style=\"display:none;\">\n",
              "\n",
              "<svg xmlns=\"http://www.w3.org/2000/svg\" height=\"24px\"viewBox=\"0 0 24 24\"\n",
              "     width=\"24px\">\n",
              "    <g>\n",
              "        <path d=\"M19 3H5c-1.1 0-2 .9-2 2v14c0 1.1.9 2 2 2h14c1.1 0 2-.9 2-2V5c0-1.1-.9-2-2-2zM9 17H7v-7h2v7zm4 0h-2V7h2v10zm4 0h-2v-4h2v4z\"/>\n",
              "    </g>\n",
              "</svg>\n",
              "  </button>\n",
              "\n",
              "<style>\n",
              "  .colab-df-quickchart {\n",
              "      --bg-color: #E8F0FE;\n",
              "      --fill-color: #1967D2;\n",
              "      --hover-bg-color: #E2EBFA;\n",
              "      --hover-fill-color: #174EA6;\n",
              "      --disabled-fill-color: #AAA;\n",
              "      --disabled-bg-color: #DDD;\n",
              "  }\n",
              "\n",
              "  [theme=dark] .colab-df-quickchart {\n",
              "      --bg-color: #3B4455;\n",
              "      --fill-color: #D2E3FC;\n",
              "      --hover-bg-color: #434B5C;\n",
              "      --hover-fill-color: #FFFFFF;\n",
              "      --disabled-bg-color: #3B4455;\n",
              "      --disabled-fill-color: #666;\n",
              "  }\n",
              "\n",
              "  .colab-df-quickchart {\n",
              "    background-color: var(--bg-color);\n",
              "    border: none;\n",
              "    border-radius: 50%;\n",
              "    cursor: pointer;\n",
              "    display: none;\n",
              "    fill: var(--fill-color);\n",
              "    height: 32px;\n",
              "    padding: 0;\n",
              "    width: 32px;\n",
              "  }\n",
              "\n",
              "  .colab-df-quickchart:hover {\n",
              "    background-color: var(--hover-bg-color);\n",
              "    box-shadow: 0 1px 2px rgba(60, 64, 67, 0.3), 0 1px 3px 1px rgba(60, 64, 67, 0.15);\n",
              "    fill: var(--button-hover-fill-color);\n",
              "  }\n",
              "\n",
              "  .colab-df-quickchart-complete:disabled,\n",
              "  .colab-df-quickchart-complete:disabled:hover {\n",
              "    background-color: var(--disabled-bg-color);\n",
              "    fill: var(--disabled-fill-color);\n",
              "    box-shadow: none;\n",
              "  }\n",
              "\n",
              "  .colab-df-spinner {\n",
              "    border: 2px solid var(--fill-color);\n",
              "    border-color: transparent;\n",
              "    border-bottom-color: var(--fill-color);\n",
              "    animation:\n",
              "      spin 1s steps(1) infinite;\n",
              "  }\n",
              "\n",
              "  @keyframes spin {\n",
              "    0% {\n",
              "      border-color: transparent;\n",
              "      border-bottom-color: var(--fill-color);\n",
              "      border-left-color: var(--fill-color);\n",
              "    }\n",
              "    20% {\n",
              "      border-color: transparent;\n",
              "      border-left-color: var(--fill-color);\n",
              "      border-top-color: var(--fill-color);\n",
              "    }\n",
              "    30% {\n",
              "      border-color: transparent;\n",
              "      border-left-color: var(--fill-color);\n",
              "      border-top-color: var(--fill-color);\n",
              "      border-right-color: var(--fill-color);\n",
              "    }\n",
              "    40% {\n",
              "      border-color: transparent;\n",
              "      border-right-color: var(--fill-color);\n",
              "      border-top-color: var(--fill-color);\n",
              "    }\n",
              "    60% {\n",
              "      border-color: transparent;\n",
              "      border-right-color: var(--fill-color);\n",
              "    }\n",
              "    80% {\n",
              "      border-color: transparent;\n",
              "      border-right-color: var(--fill-color);\n",
              "      border-bottom-color: var(--fill-color);\n",
              "    }\n",
              "    90% {\n",
              "      border-color: transparent;\n",
              "      border-bottom-color: var(--fill-color);\n",
              "    }\n",
              "  }\n",
              "</style>\n",
              "\n",
              "  <script>\n",
              "    async function quickchart(key) {\n",
              "      const quickchartButtonEl =\n",
              "        document.querySelector('#' + key + ' button');\n",
              "      quickchartButtonEl.disabled = true;  // To prevent multiple clicks.\n",
              "      quickchartButtonEl.classList.add('colab-df-spinner');\n",
              "      try {\n",
              "        const charts = await google.colab.kernel.invokeFunction(\n",
              "            'suggestCharts', [key], {});\n",
              "      } catch (error) {\n",
              "        console.error('Error during call to suggestCharts:', error);\n",
              "      }\n",
              "      quickchartButtonEl.classList.remove('colab-df-spinner');\n",
              "      quickchartButtonEl.classList.add('colab-df-quickchart-complete');\n",
              "    }\n",
              "    (() => {\n",
              "      let quickchartButtonEl =\n",
              "        document.querySelector('#df-76f1529e-7e43-4138-9ea1-abefd803bfb9 button');\n",
              "      quickchartButtonEl.style.display =\n",
              "        google.colab.kernel.accessAllowed ? 'block' : 'none';\n",
              "    })();\n",
              "  </script>\n",
              "</div>\n",
              "    </div>\n",
              "  </div>\n"
            ]
          },
          "metadata": {},
          "execution_count": 59
        }
      ],
      "source": [
        "for i in range(1,13):\n",
        "  col_name = 'month_'+str(i)\n",
        "  supervised_data[col_name]= supervised_data['sales_diff'].shift(i)\n",
        "supervised_data= supervised_data.dropna().reset_index(drop=True)\n",
        "supervised_data.head(10)"
      ]
    },
    {
      "cell_type": "markdown",
      "metadata": {
        "id": "GLsQ-Iz07aSF"
      },
      "source": [
        "Train test"
      ]
    },
    {
      "cell_type": "code",
      "execution_count": 60,
      "metadata": {
        "colab": {
          "base_uri": "https://localhost:8080/"
        },
        "id": "k5Pda5rp6b7I",
        "outputId": "1d0d8537-4b06-406c-b846-4428df65960f"
      },
      "outputs": [
        {
          "output_type": "stream",
          "name": "stdout",
          "text": [
            "(58, 13)\n",
            "(12, 13)\n"
          ]
        }
      ],
      "source": [
        "train_data= supervised_data[:-12]\n",
        "test_data= supervised_data[-12:]\n",
        "print(train_data.shape)\n",
        "print(test_data.shape)"
      ]
    },
    {
      "cell_type": "code",
      "execution_count": 61,
      "metadata": {
        "id": "MKARK5Xs7n6H"
      },
      "outputs": [],
      "source": [
        "scaler = MinMaxScaler(feature_range=(-1, 1))\n",
        "scaler.fit(train_data)\n",
        "train_data = scaler.transform(train_data)\n",
        "test_data = scaler.transform(test_data)"
      ]
    },
    {
      "cell_type": "code",
      "execution_count": 62,
      "metadata": {
        "colab": {
          "base_uri": "https://localhost:8080/"
        },
        "id": "pS4RrKyK8iJL",
        "outputId": "80e32610-1d30-41e5-b6ba-f4fc086e98e0"
      },
      "outputs": [
        {
          "output_type": "stream",
          "name": "stdout",
          "text": [
            "X_train shape (58, 12)\n",
            "y_train shape (58,)\n",
            "X_test shape (12, 12)\n",
            "y_test shape (12,)\n"
          ]
        }
      ],
      "source": [
        "X_train, y_train = train_data[:,1:],train_data[:,0:1]\n",
        "X_test, y_test = test_data[:,1:],test_data[:,0:1]\n",
        "y_train= y_train.ravel()\n",
        "y_test= y_test.ravel()\n",
        "print('X_train shape',X_train.shape)\n",
        "print('y_train shape',y_train.shape)\n",
        "print('X_test shape',X_test.shape)\n",
        "print('y_test shape',y_test.shape)"
      ]
    },
    {
      "cell_type": "markdown",
      "metadata": {
        "id": "tLRJHUEK-GTS"
      },
      "source": [
        "Make prediction data frame to merge the predeiceted sales prices of all train algo"
      ]
    },
    {
      "cell_type": "code",
      "execution_count": 63,
      "metadata": {
        "id": "6AbY19Vm9ezv"
      },
      "outputs": [],
      "source": [
        "sales_dates= monthly_sales['date'][-12:].reset_index(drop=True)\n",
        "predict_df = pd.DataFrame(sales_dates)"
      ]
    },
    {
      "cell_type": "code",
      "execution_count": 64,
      "metadata": {
        "colab": {
          "base_uri": "https://localhost:8080/"
        },
        "id": "6uA2HtQ0-j4r",
        "outputId": "059fcb5f-ae5c-4530-bbd4-abdea20790b9"
      },
      "outputs": [
        {
          "output_type": "stream",
          "name": "stdout",
          "text": [
            "[4166050.87, 3418541.04, 3587870.0300000003, 4529161.48, 3125277.5, 3392057.29, 6487162.24, 3229646.04, 2723207.4499999997, 4699592.65, 3409722.53, 221323.65]\n"
          ]
        }
      ],
      "source": [
        "act_sales = monthly_sales['revenue'][-12:].to_list()\n",
        "print(act_sales)"
      ]
    },
    {
      "cell_type": "markdown",
      "metadata": {
        "id": "97C5Czak_O8L"
      },
      "source": [
        "Create Linear regression model and prediction"
      ]
    },
    {
      "cell_type": "code",
      "execution_count": 65,
      "metadata": {
        "id": "lSfPgAWm_E4J"
      },
      "outputs": [],
      "source": [
        "lr_model = LinearRegression()\n",
        "lr_model.fit(X_train,y_train)\n",
        "lr_pred = lr_model.predict(X_test)"
      ]
    },
    {
      "cell_type": "code",
      "execution_count": 66,
      "metadata": {
        "id": "bJsKFKyo_r2g"
      },
      "outputs": [],
      "source": [
        "lr_pred = lr_pred.reshape(-1,1)\n",
        "#this is a set matrix - contain the input features of the test data, and also the predictd output\n",
        "lr_pred_test_set = np.concatenate([lr_pred, X_test], axis=1)\n",
        "lr_pred_test_set = scaler.inverse_transform(lr_pred_test_set)"
      ]
    },
    {
      "cell_type": "code",
      "execution_count": 67,
      "metadata": {
        "colab": {
          "base_uri": "https://localhost:8080/"
        },
        "id": "0kiH0r7IAfo4",
        "outputId": "b1511454-fc5c-444b-e699-c78004bb5620"
      },
      "outputs": [
        {
          "output_type": "stream",
          "name": "stdout",
          "text": [
            "         date  Linear Prediction\n",
            "0  2022-12-01       5.013366e+06\n",
            "1  2023-01-01       2.168159e+06\n",
            "2  2023-02-01       3.606398e+06\n",
            "3  2023-03-01       5.006600e+06\n",
            "4  2023-04-01       2.520618e+06\n",
            "5  2023-05-01       3.334426e+06\n",
            "6  2023-06-01       7.438446e+06\n",
            "7  2023-07-01       1.514111e+06\n",
            "8  2023-08-01       2.565317e+06\n",
            "9  2023-09-01       6.227423e+06\n",
            "10 2023-10-01       2.988288e+06\n",
            "11 2023-11-01       5.930913e+04\n"
          ]
        }
      ],
      "source": [
        "result_list = []\n",
        "for pred, actual in zip(lr_pred_test_set, act_sales):\n",
        "    result_list.append(pred[0] + actual)\n",
        "\n",
        "lr_pre_series = pd.Series(result_list, name=\"Linear Prediction\")\n",
        "predict_df = predict_df.merge(lr_pre_series, left_index=True, right_index=True)\n",
        "print(predict_df)"
      ]
    },
    {
      "cell_type": "code",
      "execution_count": 68,
      "metadata": {
        "colab": {
          "base_uri": "https://localhost:8080/"
        },
        "id": "jlrWD0uuCJcU",
        "outputId": "de2f30ce-2014-4f62-9e14-24c31bedd050"
      },
      "outputs": [
        {
          "output_type": "stream",
          "name": "stdout",
          "text": [
            "mse 879852.040434071\n",
            "mae 774139613055.9982\n",
            "RMSE: 253991.40619582622\n",
            "r2 0.8031152324289038\n"
          ]
        }
      ],
      "source": [
        "from sklearn.metrics import r2_score\n",
        "\n",
        "# predict_df['Linear Prediction'] and monthly_sales['revenue'][-12:] are true and predicted values\n",
        "lr_mse = np.sqrt(mean_squared_error(predict_df['Linear Prediction'], monthly_sales['revenue'][-12:]))\n",
        "lr_mae = mean_squared_error(predict_df['Linear Prediction'], monthly_sales['revenue'][-12:])\n",
        "mse = mean_squared_error(predict_df['Linear Prediction'], monthly_sales['revenue'][-12:])\n",
        "rmse = np.sqrt(mse / len(monthly_sales['revenue'][-12:]))\n",
        "lr_r2 = r2_score(predict_df['Linear Prediction'], monthly_sales['revenue'][-12:])\n",
        "\n",
        "print(\"mse\", lr_mse)\n",
        "print(\"mae\", lr_mae)\n",
        "print(f'RMSE: {rmse}')\n",
        "print(\"r2\", lr_r2)\n"
      ]
    },
    {
      "cell_type": "code",
      "execution_count": 69,
      "metadata": {
        "colab": {
          "base_uri": "https://localhost:8080/"
        },
        "id": "6ylSeQE8wr0n",
        "outputId": "c8059977-91f1-4fd0-a72f-ce8731bc098d"
      },
      "outputs": [
        {
          "output_type": "stream",
          "name": "stdout",
          "text": [
            "MSE (Percentage): 13.56%\n",
            "MAE (Percentage): 11933409.16%\n",
            "RMSE (Percentage): 3.92%\n",
            "R2: 80.31%\n"
          ]
        }
      ],
      "source": [
        "from sklearn.metrics import mean_squared_error, r2_score\n",
        "\n",
        "mse = mean_squared_error(predict_df['Linear Prediction'], monthly_sales['revenue'][-12:])\n",
        "rmse = np.sqrt(mse / len(monthly_sales['revenue'][-12:]))\n",
        "mae = mean_squared_error(predict_df['Linear Prediction'], monthly_sales['revenue'][-12:], squared=False)\n",
        "r2 = r2_score(predict_df['Linear Prediction'], monthly_sales['revenue'][-12:])\n",
        "\n",
        "# Calculate percentage values\n",
        "max_revenue = monthly_sales['revenue'][-12:].max()\n",
        "\n",
        "percentage_mse = (lr_mse / max_revenue) * 100\n",
        "percentage_mae = (lr_mae / max_revenue) * 100\n",
        "percentage_rmse = (rmse / max_revenue) * 100\n",
        "\n",
        "print(\"MSE (Percentage): {:.2f}%\".format(percentage_mse))\n",
        "print(\"MAE (Percentage): {:.2f}%\".format(percentage_mae))\n",
        "print(\"RMSE (Percentage): {:.2f}%\".format(percentage_rmse))\n",
        "print(\"R2: {:.2%}\".format(lr_r2))"
      ]
    },
    {
      "cell_type": "code",
      "execution_count": 70,
      "metadata": {
        "colab": {
          "base_uri": "https://localhost:8080/",
          "height": 487
        },
        "id": "iXOUhQI9IC-S",
        "outputId": "d0bcef30-eb74-4e8e-d675-a36f531fc957"
      },
      "outputs": [
        {
          "output_type": "display_data",
          "data": {
            "text/plain": [
              "<Figure size 1500x500 with 1 Axes>"
            ],
            "image/png": "[encoded data removed]"
          },
          "metadata": {}
        }
      ],
      "source": [
        "plt.figure(figsize=(15, 5))\n",
        "plt.plot(monthly_sales['date'], monthly_sales['revenue'], label='Actual revenue')\n",
        "plt.plot(monthly_sales['date'].tail(12), predict_df['Linear Prediction'], label='Predicted Revenue (Last 12 months)')\n",
        "plt.xlabel(\"Date\")\n",
        "plt.ylabel('Revenue')\n",
        "plt.title('Revenue Forecasting')\n",
        "plt.legend()\n",
        "plt.show()"
      ]
    },
    {
      "cell_type": "code",
      "execution_count": 71,
      "metadata": {
        "colab": {
          "base_uri": "https://localhost:8080/",
          "height": 487
        },
        "id": "W35mtYEpwr0n",
        "outputId": "9a1897c4-bee4-4296-99d1-b3fe285f5f13"
      },
      "outputs": [
        {
          "output_type": "display_data",
          "data": {
            "text/plain": [
              "<Figure size 1500x500 with 1 Axes>"
            ],
            "image/png": "[encoded data removed]"
          },
          "metadata": {}
        }
      ],
      "source": [
        "plt.figure(figsize=(15, 5))\n",
        "plt.plot(monthly_sales['date'].tail(12), monthly_sales['revenue'].tail(12))\n",
        "plt.plot(monthly_sales['date'].tail(12), predict_df['Linear Prediction'])\n",
        "plt.xlabel(\"Date\")\n",
        "plt.ylabel('Revenue')\n",
        "plt.title('Revenue Forecasting')\n",
        "plt.legend(['Actual revenue', 'Predicted Revenue'])\n",
        "plt.show()"
      ]
    },
    {
      "cell_type": "code",
      "execution_count": 72,
      "metadata": {
        "id": "YKm2nGqRwr0n"
      },
      "outputs": [],
      "source": [
        "from sklearn.model_selection import train_test_split\n",
        "\n",
        "# Splitting the data into train and test\n",
        "X_train, X_test, y_train, y_test = train_test_split(train_data[:, 1:], train_data[:, 0:1], test_size=0.2, random_state=42)"
      ]
    }
  ],
  "metadata": {
    "colab": {
      "provenance": []
    },
    "kernelspec": {
      "display_name": "Python 3 (ipykernel)",
      "language": "python",
      "name": "python3"
    },
    "language_info": {
      "codemirror_mode": {
        "name": "ipython",
        "version": 3
      },
      "file_extension": ".py",
      "mimetype": "text/x-python",
      "name": "python",
      "nbconvert_exporter": "python",
      "pygments_lexer": "ipython3",
      "version": "3.11.4"
    }
  },
  "nbformat": 4,
  "nbformat_minor": 0
}